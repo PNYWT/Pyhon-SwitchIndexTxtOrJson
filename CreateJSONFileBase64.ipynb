{
 "cells": [
  {
   "cell_type": "code",
   "execution_count": 18,
   "id": "8770e488",
   "metadata": {},
   "outputs": [],
   "source": [
    "import json\n",
    "import base64"
   ]
  },
  {
   "cell_type": "code",
   "execution_count": 19,
   "id": "58e34db4",
   "metadata": {},
   "outputs": [],
   "source": [
    "data = [\n",
    "    {\"title\": base64.b64encode(\"My Like\".encode()).decode(), \"type\": \"1\"},\n",
    "    {\"title\": base64.b64encode(\"My Collection\".encode()).decode(), \"type\": \"2\"},\n",
    "    {\"title\": base64.b64encode(\"My Purchase\".encode()).decode(), \"type\": \"3\"}\n",
    "]"
   ]
  },
  {
   "cell_type": "code",
   "execution_count": 20,
   "id": "8eb9391b",
   "metadata": {},
   "outputs": [],
   "source": [
    "json_data = {\"data\": data}"
   ]
  },
  {
   "cell_type": "code",
   "execution_count": 21,
   "id": "61c9bce4",
   "metadata": {},
   "outputs": [],
   "source": [
    "file_name = \"my_data_base64.json\""
   ]
  },
  {
   "cell_type": "code",
   "execution_count": 22,
   "id": "6afe4a77",
   "metadata": {},
   "outputs": [],
   "source": [
    "with open(file_name, \"w\") as json_file:\n",
    "    json.dump(json_data, json_file)"
   ]
  },
  {
   "cell_type": "code",
   "execution_count": 23,
   "id": "cc583d6d",
   "metadata": {},
   "outputs": [
    {
     "name": "stdout",
     "output_type": "stream",
     "text": [
      "ไฟล์ JSON 'my_data_base64.json' ถูกสร้างขึ้นเรียบร้อยแล้ว\n"
     ]
    }
   ],
   "source": [
    "print(f\"ไฟล์ JSON '{file_name}' ถูกสร้างขึ้นเรียบร้อยแล้ว\")"
   ]
  },
  {
   "cell_type": "markdown",
   "id": "c89a3aec",
   "metadata": {},
   "source": [
    "# MARK: Read file base64"
   ]
  },
  {
   "cell_type": "code",
   "execution_count": 24,
   "id": "0f632b6c",
   "metadata": {},
   "outputs": [],
   "source": [
    "file_name = \"my_data_base64.json\""
   ]
  },
  {
   "cell_type": "code",
   "execution_count": 25,
   "id": "46f5c493",
   "metadata": {},
   "outputs": [],
   "source": [
    "with open(file_name, \"r\") as json_file:\n",
    "    json_data = json.load(json_file)"
   ]
  },
  {
   "cell_type": "code",
   "execution_count": 26,
   "id": "89235227",
   "metadata": {},
   "outputs": [],
   "source": [
    "decoded_data = []\n",
    "for item in json_data[\"data\"]:\n",
    "    title = base64.b64decode(item[\"title\"]).decode()\n",
    "    decoded_data.append({\"title\": title, \"type\": item[\"type\"]})"
   ]
  },
  {
   "cell_type": "code",
   "execution_count": 27,
   "id": "dd7f66c6",
   "metadata": {},
   "outputs": [
    {
     "name": "stdout",
     "output_type": "stream",
     "text": [
      "Title: My Like, Type: 1\n",
      "Title: My Collection, Type: 2\n",
      "Title: My Purchase, Type: 3\n"
     ]
    }
   ],
   "source": [
    "for item in decoded_data:\n",
    "    print(f\"Title: {item['title']}, Type: {item['type']}\")"
   ]
  }
 ],
 "metadata": {
  "kernelspec": {
   "display_name": "Python 3 (ipykernel)",
   "language": "python",
   "name": "python3"
  },
  "language_info": {
   "codemirror_mode": {
    "name": "ipython",
    "version": 3
   },
   "file_extension": ".py",
   "mimetype": "text/x-python",
   "name": "python",
   "nbconvert_exporter": "python",
   "pygments_lexer": "ipython3",
   "version": "3.11.4"
  }
 },
 "nbformat": 4,
 "nbformat_minor": 5
}
