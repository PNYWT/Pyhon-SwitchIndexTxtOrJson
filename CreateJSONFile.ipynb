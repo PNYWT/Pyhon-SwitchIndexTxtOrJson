{
 "cells": [
  {
   "cell_type": "code",
   "execution_count": 7,
   "id": "c7600bea",
   "metadata": {},
   "outputs": [],
   "source": [
    "import json"
   ]
  },
  {
   "cell_type": "code",
   "execution_count": 8,
   "id": "fcffb2d7",
   "metadata": {},
   "outputs": [],
   "source": [
    "data = [\n",
    "    {\"title\": \"mylike\", \"type\": \"1\"},\n",
    "    {\"title\": \"mycollection\", \"type\": \"2\"}\n",
    "]"
   ]
  },
  {
   "cell_type": "code",
   "execution_count": 9,
   "id": "2e4a0db4",
   "metadata": {},
   "outputs": [],
   "source": [
    "json_data = {\"data\": data}"
   ]
  },
  {
   "cell_type": "code",
   "execution_count": 10,
   "id": "33684036",
   "metadata": {},
   "outputs": [],
   "source": [
    "file_name = \"fixHeader.json\""
   ]
  },
  {
   "cell_type": "code",
   "execution_count": 11,
   "id": "006dd2f7",
   "metadata": {},
   "outputs": [],
   "source": [
    "with open(file_name, \"w\") as json_file:\n",
    "    json.dump(json_data, json_file)"
   ]
  },
  {
   "cell_type": "code",
   "execution_count": 12,
   "id": "52679da0",
   "metadata": {},
   "outputs": [
    {
     "name": "stdout",
     "output_type": "stream",
     "text": [
      "Create JSON 'fixHeader.json' Success\n"
     ]
    }
   ],
   "source": [
    "print(f\"Create JSON '{file_name}' Success\")"
   ]
  },
  {
   "cell_type": "code",
   "execution_count": null,
   "id": "40531824",
   "metadata": {},
   "outputs": [],
   "source": []
  }
 ],
 "metadata": {
  "kernelspec": {
   "display_name": "Python 3 (ipykernel)",
   "language": "python",
   "name": "python3"
  },
  "language_info": {
   "codemirror_mode": {
    "name": "ipython",
    "version": 3
   },
   "file_extension": ".py",
   "mimetype": "text/x-python",
   "name": "python",
   "nbconvert_exporter": "python",
   "pygments_lexer": "ipython3",
   "version": "3.11.4"
  }
 },
 "nbformat": 4,
 "nbformat_minor": 5
}
