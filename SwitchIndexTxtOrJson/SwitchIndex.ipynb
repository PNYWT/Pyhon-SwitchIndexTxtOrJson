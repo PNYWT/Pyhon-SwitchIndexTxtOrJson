{
 "cells": [
  {
   "cell_type": "code",
   "execution_count": 2,
   "id": "d064edd1",
   "metadata": {},
   "outputs": [],
   "source": [
    "import json\n",
    "\n",
    "# อ่านข้อมูล JSON จากไฟล์ .json\n",
    "with open('data_btNew.json', 'r', encoding='utf-8') as file:\n",
    "    json_text = file.read()\n",
    "\n",
    "# แปลงข้อความ JSON เป็นโครงสร้าง JSON\n",
    "data = json.loads(json_text)\n",
    "\n",
    "for item in data[\"data\"]:\n",
    "    if \"is_vj\" in item:\n",
    "        del item[\"is_vj\"]\n",
    "    if \"user_describe\" in item:\n",
    "        item[\"user_describe\"] = \"สวัสดี มาคุยกันเถอะ\"\n",
    "\n",
    "# สับเปลี่ยนตำแหน่งข้อมูลในรายการ \"data\" ทุก 10 แถว\n",
    "swapped_data = []\n",
    "for i in range(0, len(data[\"data\"]), 10):\n",
    "    swapped_data.extend(data[\"data\"][i:i+10][::-1])\n",
    "\n",
    "# สร้างโครงสร้างใหม่ของข้อมูล JSON\n",
    "new_data = {\"data\": swapped_data}\n",
    "\n",
    "# แปลงโครงสร้าง JSON เป็นข้อความ JSON\n",
    "new_json_text = json.dumps(new_data, indent=4)\n",
    "\n",
    "# เขียนข้อมูล JSON กลับลงในไฟล์ .json\n",
    "with open('output.json', 'w') as file:\n",
    "    file.write(new_json_text)"
   ]
  },
  {
   "cell_type": "code",
   "execution_count": null,
   "id": "69f5104e",
   "metadata": {},
   "outputs": [],
   "source": []
  }
 ],
 "metadata": {
  "kernelspec": {
   "display_name": "Python 3 (ipykernel)",
   "language": "python",
   "name": "python3"
  },
  "language_info": {
   "codemirror_mode": {
    "name": "ipython",
    "version": 3
   },
   "file_extension": ".py",
   "mimetype": "text/x-python",
   "name": "python",
   "nbconvert_exporter": "python",
   "pygments_lexer": "ipython3",
   "version": "3.11.4"
  }
 },
 "nbformat": 4,
 "nbformat_minor": 5
}
