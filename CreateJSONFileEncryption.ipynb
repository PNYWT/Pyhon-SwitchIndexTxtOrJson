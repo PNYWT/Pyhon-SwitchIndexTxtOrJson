{
 "cells": [
  {
   "cell_type": "code",
   "execution_count": 42,
   "id": "45183df9",
   "metadata": {},
   "outputs": [],
   "source": [
    "from cryptography.fernet import Fernet\n",
    "import json"
   ]
  },
  {
   "cell_type": "code",
   "execution_count": 43,
   "id": "3a41e140",
   "metadata": {},
   "outputs": [
    {
     "name": "stdout",
     "output_type": "stream",
     "text": [
      "คีย์ (Key): jrkB-LwRm3z-NpRcYXSSStjRdVMrkGJ414p7SzDYnJA=\n"
     ]
    }
   ],
   "source": [
    "key = Fernet.generate_key()\n",
    "cipher_suite = Fernet(key)\n",
    "key_base64 = key.decode()\n",
    "print(f\"คีย์ (Key): {key_base64}\")"
   ]
  },
  {
   "cell_type": "code",
   "execution_count": 44,
   "id": "bb0a1c07",
   "metadata": {},
   "outputs": [],
   "source": [
    "# your_key_base64 = \"o3UuNVZUOiYqUeCq6CAc2WxqMnL7aR_VgwUvPn-30bE=\"\n",
    "# your_key = your_key_base64.encode()\n",
    "# cipher_suite = Fernet(your_key)\n",
    "# print(f\"คีย์ (Key): {cipher_suite}\")"
   ]
  },
  {
   "cell_type": "code",
   "execution_count": 45,
   "id": "cfe7bd04",
   "metadata": {},
   "outputs": [],
   "source": [
    "data = [\n",
    "    {\"title\": \"My Like\", \"type\": \"1\"},\n",
    "    {\"title\": \"My Collection\", \"type\": \"2\"},\n",
    "    {\"title\": \"My Purchase\", \"type\": \"3\"}\n",
    "]"
   ]
  },
  {
   "cell_type": "code",
   "execution_count": 46,
   "id": "9c135b6a",
   "metadata": {},
   "outputs": [],
   "source": [
    "encrypted_data = []\n",
    "for item in data:\n",
    "    encrypted_title = cipher_suite.encrypt(item[\"title\"].encode()).decode()\n",
    "    encrypted_data.append({\"title\": encrypted_title, \"type\": item[\"type\"]})"
   ]
  },
  {
   "cell_type": "code",
   "execution_count": 47,
   "id": "0e5b0fa4",
   "metadata": {},
   "outputs": [
    {
     "name": "stdout",
     "output_type": "stream",
     "text": [
      "ข้อมูล JSON ที่เข้ารหัสแล้ว:\n",
      "[\n",
      "    {\n",
      "        \"title\": \"gAAAAABlFPjcrzE8mNsDJ3IYKAvtxeQBzrEuDKBnB5vzJTtmsKhxA2_RpyqugF64zALcX7L4L0HUYHEfb9MPBTOQ-jQng8jIVg==\",\n",
      "        \"type\": \"1\"\n",
      "    },\n",
      "    {\n",
      "        \"title\": \"gAAAAABlFPjcjMWe1MYKjdMADHrl7aihxd9WCHVSBH81-GXNjZaIr2z4bvYxCWNTMHcxQwg36zS-uyIrFvwMpvq6zWknGcV90g==\",\n",
      "        \"type\": \"2\"\n",
      "    },\n",
      "    {\n",
      "        \"title\": \"gAAAAABlFPjcbzo-4YUfxjqxsHrmL1gUd4CwJ2bVx0-myGkvK7RuYYDE2TYF_ijjJCNT0-mXefeTrg_DZtejbasUHR9eGvV_Yw==\",\n",
      "        \"type\": \"3\"\n",
      "    }\n",
      "]\n"
     ]
    }
   ],
   "source": [
    "print(\"ข้อมูล JSON ที่เข้ารหัสแล้ว:\")\n",
    "print(json.dumps(encrypted_data, indent=4))"
   ]
  },
  {
   "cell_type": "code",
   "execution_count": 48,
   "id": "bd18d62e",
   "metadata": {},
   "outputs": [],
   "source": [
    "decrypted_data = []\n",
    "for item in encrypted_data:\n",
    "    decrypted_title = cipher_suite.decrypt(item[\"title\"].encode()).decode()\n",
    "    decrypted_data.append({\"title\": decrypted_title, \"type\": item[\"type\"]})"
   ]
  },
  {
   "cell_type": "code",
   "execution_count": 49,
   "id": "ad71bfbf",
   "metadata": {},
   "outputs": [
    {
     "name": "stdout",
     "output_type": "stream",
     "text": [
      "\n",
      "ข้อมูล JSON ที่ถอดรหัสแล้ว:\n",
      "[\n",
      "    {\n",
      "        \"title\": \"My Like\",\n",
      "        \"type\": \"1\"\n",
      "    },\n",
      "    {\n",
      "        \"title\": \"My Collection\",\n",
      "        \"type\": \"2\"\n",
      "    },\n",
      "    {\n",
      "        \"title\": \"My Purchase\",\n",
      "        \"type\": \"3\"\n",
      "    }\n",
      "]\n"
     ]
    }
   ],
   "source": [
    "print(\"\\nข้อมูล JSON ที่ถอดรหัสแล้ว:\")\n",
    "print(json.dumps(decrypted_data, indent=4))"
   ]
  },
  {
   "cell_type": "code",
   "execution_count": 50,
   "id": "9e78dd38",
   "metadata": {},
   "outputs": [
    {
     "name": "stdout",
     "output_type": "stream",
     "text": [
      "ไฟล์ JSON ที่ถูกเข้ารหัสถูกบันทึกที่ 'encrypted_data.json' แล้ว\n"
     ]
    }
   ],
   "source": [
    "file_name = \"encrypted_data.json\"\n",
    "\n",
    "with open(file_name, \"w\") as json_file:\n",
    "    json.dump(encrypted_data, json_file)\n",
    "\n",
    "print(f\"ไฟล์ JSON ที่ถูกเข้ารหัสถูกบันทึกที่ '{file_name}' แล้ว\")"
   ]
  }
 ],
 "metadata": {
  "kernelspec": {
   "display_name": "Python 3 (ipykernel)",
   "language": "python",
   "name": "python3"
  },
  "language_info": {
   "codemirror_mode": {
    "name": "ipython",
    "version": 3
   },
   "file_extension": ".py",
   "mimetype": "text/x-python",
   "name": "python",
   "nbconvert_exporter": "python",
   "pygments_lexer": "ipython3",
   "version": "3.11.4"
  }
 },
 "nbformat": 4,
 "nbformat_minor": 5
}
